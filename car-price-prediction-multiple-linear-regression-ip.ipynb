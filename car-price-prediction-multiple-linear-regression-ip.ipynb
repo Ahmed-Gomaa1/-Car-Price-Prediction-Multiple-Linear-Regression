{
 "cells": [
  {
   "cell_type": "code",
   "execution_count": 1,
   "id": "0022b341",
   "metadata": {
    "execution": {
     "iopub.execute_input": "2022-09-15T19:18:33.227642Z",
     "iopub.status.busy": "2022-09-15T19:18:33.226651Z",
     "iopub.status.idle": "2022-09-15T19:18:34.454818Z",
     "shell.execute_reply": "2022-09-15T19:18:34.453980Z"
    },
    "id": "zV4a485q6g74",
    "papermill": {
     "duration": 1.24346,
     "end_time": "2022-09-15T19:18:34.457616",
     "exception": false,
     "start_time": "2022-09-15T19:18:33.214156",
     "status": "completed"
    },
    "tags": []
   },
   "outputs": [],
   "source": [
    "import numpy as np\n",
    "import pandas as pd\n",
    "import matplotlib.pyplot as plt\n",
    "import seaborn as sns "
   ]
  },
  {
   "cell_type": "code",
   "execution_count": 2,
   "id": "d4b09216",
   "metadata": {
    "execution": {
     "iopub.execute_input": "2022-09-15T19:18:34.478575Z",
     "iopub.status.busy": "2022-09-15T19:18:34.477825Z",
     "iopub.status.idle": "2022-09-15T19:18:34.499723Z",
     "shell.execute_reply": "2022-09-15T19:18:34.498882Z"
    },
    "id": "7UVKKncv6g8A",
    "papermill": {
     "duration": 0.035357,
     "end_time": "2022-09-15T19:18:34.502412",
     "exception": false,
     "start_time": "2022-09-15T19:18:34.467055",
     "status": "completed"
    },
    "tags": []
   },
   "outputs": [],
   "source": [
    "data= pd.read_csv('../input/car-price-prediction/CarPrice_Assignment.csv')"
   ]
  },
  {
   "cell_type": "code",
   "execution_count": 3,
   "id": "7ef33cba",
   "metadata": {
    "execution": {
     "iopub.execute_input": "2022-09-15T19:18:34.522514Z",
     "iopub.status.busy": "2022-09-15T19:18:34.521759Z",
     "iopub.status.idle": "2022-09-15T19:18:34.559075Z",
     "shell.execute_reply": "2022-09-15T19:18:34.558103Z"
    },
    "id": "oD3KUvfv6g8B",
    "outputId": "d1c73be7-6a38-4139-dc63-04ca55c56138",
    "papermill": {
     "duration": 0.049934,
     "end_time": "2022-09-15T19:18:34.561427",
     "exception": false,
     "start_time": "2022-09-15T19:18:34.511493",
     "status": "completed"
    },
    "tags": []
   },
   "outputs": [
    {
     "data": {
      "text/html": [
       "<div>\n",
       "<style scoped>\n",
       "    .dataframe tbody tr th:only-of-type {\n",
       "        vertical-align: middle;\n",
       "    }\n",
       "\n",
       "    .dataframe tbody tr th {\n",
       "        vertical-align: top;\n",
       "    }\n",
       "\n",
       "    .dataframe thead th {\n",
       "        text-align: right;\n",
       "    }\n",
       "</style>\n",
       "<table border=\"1\" class=\"dataframe\">\n",
       "  <thead>\n",
       "    <tr style=\"text-align: right;\">\n",
       "      <th></th>\n",
       "      <th>car_ID</th>\n",
       "      <th>symboling</th>\n",
       "      <th>CarName</th>\n",
       "      <th>fueltype</th>\n",
       "      <th>aspiration</th>\n",
       "      <th>doornumber</th>\n",
       "      <th>carbody</th>\n",
       "      <th>drivewheel</th>\n",
       "      <th>enginelocation</th>\n",
       "      <th>wheelbase</th>\n",
       "      <th>...</th>\n",
       "      <th>enginesize</th>\n",
       "      <th>fuelsystem</th>\n",
       "      <th>boreratio</th>\n",
       "      <th>stroke</th>\n",
       "      <th>compressionratio</th>\n",
       "      <th>horsepower</th>\n",
       "      <th>peakrpm</th>\n",
       "      <th>citympg</th>\n",
       "      <th>highwaympg</th>\n",
       "      <th>price</th>\n",
       "    </tr>\n",
       "  </thead>\n",
       "  <tbody>\n",
       "    <tr>\n",
       "      <th>0</th>\n",
       "      <td>1</td>\n",
       "      <td>3</td>\n",
       "      <td>alfa-romero giulia</td>\n",
       "      <td>gas</td>\n",
       "      <td>std</td>\n",
       "      <td>two</td>\n",
       "      <td>convertible</td>\n",
       "      <td>rwd</td>\n",
       "      <td>front</td>\n",
       "      <td>88.6</td>\n",
       "      <td>...</td>\n",
       "      <td>130</td>\n",
       "      <td>mpfi</td>\n",
       "      <td>3.47</td>\n",
       "      <td>2.68</td>\n",
       "      <td>9.0</td>\n",
       "      <td>111</td>\n",
       "      <td>5000</td>\n",
       "      <td>21</td>\n",
       "      <td>27</td>\n",
       "      <td>13495.0</td>\n",
       "    </tr>\n",
       "    <tr>\n",
       "      <th>1</th>\n",
       "      <td>2</td>\n",
       "      <td>3</td>\n",
       "      <td>alfa-romero stelvio</td>\n",
       "      <td>gas</td>\n",
       "      <td>std</td>\n",
       "      <td>two</td>\n",
       "      <td>convertible</td>\n",
       "      <td>rwd</td>\n",
       "      <td>front</td>\n",
       "      <td>88.6</td>\n",
       "      <td>...</td>\n",
       "      <td>130</td>\n",
       "      <td>mpfi</td>\n",
       "      <td>3.47</td>\n",
       "      <td>2.68</td>\n",
       "      <td>9.0</td>\n",
       "      <td>111</td>\n",
       "      <td>5000</td>\n",
       "      <td>21</td>\n",
       "      <td>27</td>\n",
       "      <td>16500.0</td>\n",
       "    </tr>\n",
       "    <tr>\n",
       "      <th>2</th>\n",
       "      <td>3</td>\n",
       "      <td>1</td>\n",
       "      <td>alfa-romero Quadrifoglio</td>\n",
       "      <td>gas</td>\n",
       "      <td>std</td>\n",
       "      <td>two</td>\n",
       "      <td>hatchback</td>\n",
       "      <td>rwd</td>\n",
       "      <td>front</td>\n",
       "      <td>94.5</td>\n",
       "      <td>...</td>\n",
       "      <td>152</td>\n",
       "      <td>mpfi</td>\n",
       "      <td>2.68</td>\n",
       "      <td>3.47</td>\n",
       "      <td>9.0</td>\n",
       "      <td>154</td>\n",
       "      <td>5000</td>\n",
       "      <td>19</td>\n",
       "      <td>26</td>\n",
       "      <td>16500.0</td>\n",
       "    </tr>\n",
       "    <tr>\n",
       "      <th>3</th>\n",
       "      <td>4</td>\n",
       "      <td>2</td>\n",
       "      <td>audi 100 ls</td>\n",
       "      <td>gas</td>\n",
       "      <td>std</td>\n",
       "      <td>four</td>\n",
       "      <td>sedan</td>\n",
       "      <td>fwd</td>\n",
       "      <td>front</td>\n",
       "      <td>99.8</td>\n",
       "      <td>...</td>\n",
       "      <td>109</td>\n",
       "      <td>mpfi</td>\n",
       "      <td>3.19</td>\n",
       "      <td>3.40</td>\n",
       "      <td>10.0</td>\n",
       "      <td>102</td>\n",
       "      <td>5500</td>\n",
       "      <td>24</td>\n",
       "      <td>30</td>\n",
       "      <td>13950.0</td>\n",
       "    </tr>\n",
       "    <tr>\n",
       "      <th>4</th>\n",
       "      <td>5</td>\n",
       "      <td>2</td>\n",
       "      <td>audi 100ls</td>\n",
       "      <td>gas</td>\n",
       "      <td>std</td>\n",
       "      <td>four</td>\n",
       "      <td>sedan</td>\n",
       "      <td>4wd</td>\n",
       "      <td>front</td>\n",
       "      <td>99.4</td>\n",
       "      <td>...</td>\n",
       "      <td>136</td>\n",
       "      <td>mpfi</td>\n",
       "      <td>3.19</td>\n",
       "      <td>3.40</td>\n",
       "      <td>8.0</td>\n",
       "      <td>115</td>\n",
       "      <td>5500</td>\n",
       "      <td>18</td>\n",
       "      <td>22</td>\n",
       "      <td>17450.0</td>\n",
       "    </tr>\n",
       "  </tbody>\n",
       "</table>\n",
       "<p>5 rows × 26 columns</p>\n",
       "</div>"
      ],
      "text/plain": [
       "   car_ID  symboling                   CarName fueltype aspiration doornumber  \\\n",
       "0       1          3        alfa-romero giulia      gas        std        two   \n",
       "1       2          3       alfa-romero stelvio      gas        std        two   \n",
       "2       3          1  alfa-romero Quadrifoglio      gas        std        two   \n",
       "3       4          2               audi 100 ls      gas        std       four   \n",
       "4       5          2                audi 100ls      gas        std       four   \n",
       "\n",
       "       carbody drivewheel enginelocation  wheelbase  ...  enginesize  \\\n",
       "0  convertible        rwd          front       88.6  ...         130   \n",
       "1  convertible        rwd          front       88.6  ...         130   \n",
       "2    hatchback        rwd          front       94.5  ...         152   \n",
       "3        sedan        fwd          front       99.8  ...         109   \n",
       "4        sedan        4wd          front       99.4  ...         136   \n",
       "\n",
       "   fuelsystem  boreratio  stroke compressionratio horsepower  peakrpm citympg  \\\n",
       "0        mpfi       3.47    2.68              9.0        111     5000      21   \n",
       "1        mpfi       3.47    2.68              9.0        111     5000      21   \n",
       "2        mpfi       2.68    3.47              9.0        154     5000      19   \n",
       "3        mpfi       3.19    3.40             10.0        102     5500      24   \n",
       "4        mpfi       3.19    3.40              8.0        115     5500      18   \n",
       "\n",
       "   highwaympg    price  \n",
       "0          27  13495.0  \n",
       "1          27  16500.0  \n",
       "2          26  16500.0  \n",
       "3          30  13950.0  \n",
       "4          22  17450.0  \n",
       "\n",
       "[5 rows x 26 columns]"
      ]
     },
     "execution_count": 3,
     "metadata": {},
     "output_type": "execute_result"
    }
   ],
   "source": [
    "data.head(5)"
   ]
  },
  {
   "cell_type": "code",
   "execution_count": 4,
   "id": "f435bf7b",
   "metadata": {
    "execution": {
     "iopub.execute_input": "2022-09-15T19:18:34.583739Z",
     "iopub.status.busy": "2022-09-15T19:18:34.582064Z",
     "iopub.status.idle": "2022-09-15T19:18:34.612428Z",
     "shell.execute_reply": "2022-09-15T19:18:34.610111Z"
    },
    "id": "yTyhQg6YLuT9",
    "outputId": "6ee93636-6e28-4583-8a0e-b6922967234b",
    "papermill": {
     "duration": 0.044938,
     "end_time": "2022-09-15T19:18:34.615690",
     "exception": false,
     "start_time": "2022-09-15T19:18:34.570752",
     "status": "completed"
    },
    "tags": []
   },
   "outputs": [
    {
     "name": "stdout",
     "output_type": "stream",
     "text": [
      "<class 'pandas.core.frame.DataFrame'>\n",
      "RangeIndex: 205 entries, 0 to 204\n",
      "Data columns (total 26 columns):\n",
      " #   Column            Non-Null Count  Dtype  \n",
      "---  ------            --------------  -----  \n",
      " 0   car_ID            205 non-null    int64  \n",
      " 1   symboling         205 non-null    int64  \n",
      " 2   CarName           205 non-null    object \n",
      " 3   fueltype          205 non-null    object \n",
      " 4   aspiration        205 non-null    object \n",
      " 5   doornumber        205 non-null    object \n",
      " 6   carbody           205 non-null    object \n",
      " 7   drivewheel        205 non-null    object \n",
      " 8   enginelocation    205 non-null    object \n",
      " 9   wheelbase         205 non-null    float64\n",
      " 10  carlength         205 non-null    float64\n",
      " 11  carwidth          205 non-null    float64\n",
      " 12  carheight         205 non-null    float64\n",
      " 13  curbweight        205 non-null    int64  \n",
      " 14  enginetype        205 non-null    object \n",
      " 15  cylindernumber    205 non-null    object \n",
      " 16  enginesize        205 non-null    int64  \n",
      " 17  fuelsystem        205 non-null    object \n",
      " 18  boreratio         205 non-null    float64\n",
      " 19  stroke            205 non-null    float64\n",
      " 20  compressionratio  205 non-null    float64\n",
      " 21  horsepower        205 non-null    int64  \n",
      " 22  peakrpm           205 non-null    int64  \n",
      " 23  citympg           205 non-null    int64  \n",
      " 24  highwaympg        205 non-null    int64  \n",
      " 25  price             205 non-null    float64\n",
      "dtypes: float64(8), int64(8), object(10)\n",
      "memory usage: 41.8+ KB\n"
     ]
    }
   ],
   "source": [
    "data.info()"
   ]
  },
  {
   "cell_type": "code",
   "execution_count": 5,
   "id": "e5fdc7d7",
   "metadata": {
    "execution": {
     "iopub.execute_input": "2022-09-15T19:18:34.644280Z",
     "iopub.status.busy": "2022-09-15T19:18:34.642716Z",
     "iopub.status.idle": "2022-09-15T19:18:34.656118Z",
     "shell.execute_reply": "2022-09-15T19:18:34.655058Z"
    },
    "id": "B3kLqSOd6g8C",
    "outputId": "03fbd762-9344-40e6-fcb1-a41cb24b8ed7",
    "papermill": {
     "duration": 0.031212,
     "end_time": "2022-09-15T19:18:34.658626",
     "exception": false,
     "start_time": "2022-09-15T19:18:34.627414",
     "status": "completed"
    },
    "tags": []
   },
   "outputs": [
    {
     "data": {
      "text/plain": [
       "car_ID              0\n",
       "symboling           0\n",
       "CarName             0\n",
       "fueltype            0\n",
       "aspiration          0\n",
       "doornumber          0\n",
       "carbody             0\n",
       "drivewheel          0\n",
       "enginelocation      0\n",
       "wheelbase           0\n",
       "carlength           0\n",
       "carwidth            0\n",
       "carheight           0\n",
       "curbweight          0\n",
       "enginetype          0\n",
       "cylindernumber      0\n",
       "enginesize          0\n",
       "fuelsystem          0\n",
       "boreratio           0\n",
       "stroke              0\n",
       "compressionratio    0\n",
       "horsepower          0\n",
       "peakrpm             0\n",
       "citympg             0\n",
       "highwaympg          0\n",
       "price               0\n",
       "dtype: int64"
      ]
     },
     "execution_count": 5,
     "metadata": {},
     "output_type": "execute_result"
    }
   ],
   "source": [
    "data.isnull().sum()"
   ]
  },
  {
   "cell_type": "code",
   "execution_count": 6,
   "id": "abafdbda",
   "metadata": {
    "execution": {
     "iopub.execute_input": "2022-09-15T19:18:34.686011Z",
     "iopub.status.busy": "2022-09-15T19:18:34.685206Z",
     "iopub.status.idle": "2022-09-15T19:18:34.743240Z",
     "shell.execute_reply": "2022-09-15T19:18:34.742072Z"
    },
    "id": "Emdvxdm-6g8D",
    "outputId": "4b96befb-ffc0-4b08-a5e0-41ef096cef00",
    "papermill": {
     "duration": 0.076122,
     "end_time": "2022-09-15T19:18:34.745901",
     "exception": false,
     "start_time": "2022-09-15T19:18:34.669779",
     "status": "completed"
    },
    "tags": []
   },
   "outputs": [
    {
     "data": {
      "text/html": [
       "<div>\n",
       "<style scoped>\n",
       "    .dataframe tbody tr th:only-of-type {\n",
       "        vertical-align: middle;\n",
       "    }\n",
       "\n",
       "    .dataframe tbody tr th {\n",
       "        vertical-align: top;\n",
       "    }\n",
       "\n",
       "    .dataframe thead th {\n",
       "        text-align: right;\n",
       "    }\n",
       "</style>\n",
       "<table border=\"1\" class=\"dataframe\">\n",
       "  <thead>\n",
       "    <tr style=\"text-align: right;\">\n",
       "      <th></th>\n",
       "      <th>car_ID</th>\n",
       "      <th>symboling</th>\n",
       "      <th>wheelbase</th>\n",
       "      <th>carlength</th>\n",
       "      <th>carwidth</th>\n",
       "      <th>carheight</th>\n",
       "      <th>curbweight</th>\n",
       "      <th>enginesize</th>\n",
       "      <th>boreratio</th>\n",
       "      <th>stroke</th>\n",
       "      <th>compressionratio</th>\n",
       "      <th>horsepower</th>\n",
       "      <th>peakrpm</th>\n",
       "      <th>citympg</th>\n",
       "      <th>highwaympg</th>\n",
       "      <th>price</th>\n",
       "    </tr>\n",
       "  </thead>\n",
       "  <tbody>\n",
       "    <tr>\n",
       "      <th>count</th>\n",
       "      <td>205.000000</td>\n",
       "      <td>205.000000</td>\n",
       "      <td>205.000000</td>\n",
       "      <td>205.000000</td>\n",
       "      <td>205.000000</td>\n",
       "      <td>205.000000</td>\n",
       "      <td>205.000000</td>\n",
       "      <td>205.000000</td>\n",
       "      <td>205.000000</td>\n",
       "      <td>205.000000</td>\n",
       "      <td>205.000000</td>\n",
       "      <td>205.000000</td>\n",
       "      <td>205.000000</td>\n",
       "      <td>205.000000</td>\n",
       "      <td>205.000000</td>\n",
       "      <td>205.000000</td>\n",
       "    </tr>\n",
       "    <tr>\n",
       "      <th>mean</th>\n",
       "      <td>103.000000</td>\n",
       "      <td>0.834146</td>\n",
       "      <td>98.756585</td>\n",
       "      <td>174.049268</td>\n",
       "      <td>65.907805</td>\n",
       "      <td>53.724878</td>\n",
       "      <td>2555.565854</td>\n",
       "      <td>126.907317</td>\n",
       "      <td>3.329756</td>\n",
       "      <td>3.255415</td>\n",
       "      <td>10.142537</td>\n",
       "      <td>104.117073</td>\n",
       "      <td>5125.121951</td>\n",
       "      <td>25.219512</td>\n",
       "      <td>30.751220</td>\n",
       "      <td>13276.710571</td>\n",
       "    </tr>\n",
       "    <tr>\n",
       "      <th>std</th>\n",
       "      <td>59.322565</td>\n",
       "      <td>1.245307</td>\n",
       "      <td>6.021776</td>\n",
       "      <td>12.337289</td>\n",
       "      <td>2.145204</td>\n",
       "      <td>2.443522</td>\n",
       "      <td>520.680204</td>\n",
       "      <td>41.642693</td>\n",
       "      <td>0.270844</td>\n",
       "      <td>0.313597</td>\n",
       "      <td>3.972040</td>\n",
       "      <td>39.544167</td>\n",
       "      <td>476.985643</td>\n",
       "      <td>6.542142</td>\n",
       "      <td>6.886443</td>\n",
       "      <td>7988.852332</td>\n",
       "    </tr>\n",
       "    <tr>\n",
       "      <th>min</th>\n",
       "      <td>1.000000</td>\n",
       "      <td>-2.000000</td>\n",
       "      <td>86.600000</td>\n",
       "      <td>141.100000</td>\n",
       "      <td>60.300000</td>\n",
       "      <td>47.800000</td>\n",
       "      <td>1488.000000</td>\n",
       "      <td>61.000000</td>\n",
       "      <td>2.540000</td>\n",
       "      <td>2.070000</td>\n",
       "      <td>7.000000</td>\n",
       "      <td>48.000000</td>\n",
       "      <td>4150.000000</td>\n",
       "      <td>13.000000</td>\n",
       "      <td>16.000000</td>\n",
       "      <td>5118.000000</td>\n",
       "    </tr>\n",
       "    <tr>\n",
       "      <th>25%</th>\n",
       "      <td>52.000000</td>\n",
       "      <td>0.000000</td>\n",
       "      <td>94.500000</td>\n",
       "      <td>166.300000</td>\n",
       "      <td>64.100000</td>\n",
       "      <td>52.000000</td>\n",
       "      <td>2145.000000</td>\n",
       "      <td>97.000000</td>\n",
       "      <td>3.150000</td>\n",
       "      <td>3.110000</td>\n",
       "      <td>8.600000</td>\n",
       "      <td>70.000000</td>\n",
       "      <td>4800.000000</td>\n",
       "      <td>19.000000</td>\n",
       "      <td>25.000000</td>\n",
       "      <td>7788.000000</td>\n",
       "    </tr>\n",
       "    <tr>\n",
       "      <th>50%</th>\n",
       "      <td>103.000000</td>\n",
       "      <td>1.000000</td>\n",
       "      <td>97.000000</td>\n",
       "      <td>173.200000</td>\n",
       "      <td>65.500000</td>\n",
       "      <td>54.100000</td>\n",
       "      <td>2414.000000</td>\n",
       "      <td>120.000000</td>\n",
       "      <td>3.310000</td>\n",
       "      <td>3.290000</td>\n",
       "      <td>9.000000</td>\n",
       "      <td>95.000000</td>\n",
       "      <td>5200.000000</td>\n",
       "      <td>24.000000</td>\n",
       "      <td>30.000000</td>\n",
       "      <td>10295.000000</td>\n",
       "    </tr>\n",
       "    <tr>\n",
       "      <th>75%</th>\n",
       "      <td>154.000000</td>\n",
       "      <td>2.000000</td>\n",
       "      <td>102.400000</td>\n",
       "      <td>183.100000</td>\n",
       "      <td>66.900000</td>\n",
       "      <td>55.500000</td>\n",
       "      <td>2935.000000</td>\n",
       "      <td>141.000000</td>\n",
       "      <td>3.580000</td>\n",
       "      <td>3.410000</td>\n",
       "      <td>9.400000</td>\n",
       "      <td>116.000000</td>\n",
       "      <td>5500.000000</td>\n",
       "      <td>30.000000</td>\n",
       "      <td>34.000000</td>\n",
       "      <td>16503.000000</td>\n",
       "    </tr>\n",
       "    <tr>\n",
       "      <th>max</th>\n",
       "      <td>205.000000</td>\n",
       "      <td>3.000000</td>\n",
       "      <td>120.900000</td>\n",
       "      <td>208.100000</td>\n",
       "      <td>72.300000</td>\n",
       "      <td>59.800000</td>\n",
       "      <td>4066.000000</td>\n",
       "      <td>326.000000</td>\n",
       "      <td>3.940000</td>\n",
       "      <td>4.170000</td>\n",
       "      <td>23.000000</td>\n",
       "      <td>288.000000</td>\n",
       "      <td>6600.000000</td>\n",
       "      <td>49.000000</td>\n",
       "      <td>54.000000</td>\n",
       "      <td>45400.000000</td>\n",
       "    </tr>\n",
       "  </tbody>\n",
       "</table>\n",
       "</div>"
      ],
      "text/plain": [
       "           car_ID   symboling   wheelbase   carlength    carwidth   carheight  \\\n",
       "count  205.000000  205.000000  205.000000  205.000000  205.000000  205.000000   \n",
       "mean   103.000000    0.834146   98.756585  174.049268   65.907805   53.724878   \n",
       "std     59.322565    1.245307    6.021776   12.337289    2.145204    2.443522   \n",
       "min      1.000000   -2.000000   86.600000  141.100000   60.300000   47.800000   \n",
       "25%     52.000000    0.000000   94.500000  166.300000   64.100000   52.000000   \n",
       "50%    103.000000    1.000000   97.000000  173.200000   65.500000   54.100000   \n",
       "75%    154.000000    2.000000  102.400000  183.100000   66.900000   55.500000   \n",
       "max    205.000000    3.000000  120.900000  208.100000   72.300000   59.800000   \n",
       "\n",
       "        curbweight  enginesize   boreratio      stroke  compressionratio  \\\n",
       "count   205.000000  205.000000  205.000000  205.000000        205.000000   \n",
       "mean   2555.565854  126.907317    3.329756    3.255415         10.142537   \n",
       "std     520.680204   41.642693    0.270844    0.313597          3.972040   \n",
       "min    1488.000000   61.000000    2.540000    2.070000          7.000000   \n",
       "25%    2145.000000   97.000000    3.150000    3.110000          8.600000   \n",
       "50%    2414.000000  120.000000    3.310000    3.290000          9.000000   \n",
       "75%    2935.000000  141.000000    3.580000    3.410000          9.400000   \n",
       "max    4066.000000  326.000000    3.940000    4.170000         23.000000   \n",
       "\n",
       "       horsepower      peakrpm     citympg  highwaympg         price  \n",
       "count  205.000000   205.000000  205.000000  205.000000    205.000000  \n",
       "mean   104.117073  5125.121951   25.219512   30.751220  13276.710571  \n",
       "std     39.544167   476.985643    6.542142    6.886443   7988.852332  \n",
       "min     48.000000  4150.000000   13.000000   16.000000   5118.000000  \n",
       "25%     70.000000  4800.000000   19.000000   25.000000   7788.000000  \n",
       "50%     95.000000  5200.000000   24.000000   30.000000  10295.000000  \n",
       "75%    116.000000  5500.000000   30.000000   34.000000  16503.000000  \n",
       "max    288.000000  6600.000000   49.000000   54.000000  45400.000000  "
      ]
     },
     "execution_count": 6,
     "metadata": {},
     "output_type": "execute_result"
    }
   ],
   "source": [
    "data.describe()"
   ]
  },
  {
   "cell_type": "code",
   "execution_count": 7,
   "id": "25b5651a",
   "metadata": {
    "execution": {
     "iopub.execute_input": "2022-09-15T19:18:34.768656Z",
     "iopub.status.busy": "2022-09-15T19:18:34.767585Z",
     "iopub.status.idle": "2022-09-15T19:18:34.797896Z",
     "shell.execute_reply": "2022-09-15T19:18:34.796380Z"
    },
    "id": "yOESTQgp_ele",
    "outputId": "89bdab99-1d80-4070-bf8d-29236af482e2",
    "papermill": {
     "duration": 0.044314,
     "end_time": "2022-09-15T19:18:34.800315",
     "exception": false,
     "start_time": "2022-09-15T19:18:34.756001",
     "status": "completed"
    },
    "tags": []
   },
   "outputs": [
    {
     "data": {
      "text/html": [
       "<div>\n",
       "<style scoped>\n",
       "    .dataframe tbody tr th:only-of-type {\n",
       "        vertical-align: middle;\n",
       "    }\n",
       "\n",
       "    .dataframe tbody tr th {\n",
       "        vertical-align: top;\n",
       "    }\n",
       "\n",
       "    .dataframe thead th {\n",
       "        text-align: right;\n",
       "    }\n",
       "</style>\n",
       "<table border=\"1\" class=\"dataframe\">\n",
       "  <thead>\n",
       "    <tr style=\"text-align: right;\">\n",
       "      <th></th>\n",
       "      <th>CarName</th>\n",
       "      <th>fueltype</th>\n",
       "      <th>aspiration</th>\n",
       "      <th>doornumber</th>\n",
       "      <th>carbody</th>\n",
       "      <th>drivewheel</th>\n",
       "      <th>enginelocation</th>\n",
       "      <th>enginetype</th>\n",
       "      <th>cylindernumber</th>\n",
       "      <th>fuelsystem</th>\n",
       "    </tr>\n",
       "  </thead>\n",
       "  <tbody>\n",
       "    <tr>\n",
       "      <th>count</th>\n",
       "      <td>205</td>\n",
       "      <td>205</td>\n",
       "      <td>205</td>\n",
       "      <td>205</td>\n",
       "      <td>205</td>\n",
       "      <td>205</td>\n",
       "      <td>205</td>\n",
       "      <td>205</td>\n",
       "      <td>205</td>\n",
       "      <td>205</td>\n",
       "    </tr>\n",
       "    <tr>\n",
       "      <th>unique</th>\n",
       "      <td>147</td>\n",
       "      <td>2</td>\n",
       "      <td>2</td>\n",
       "      <td>2</td>\n",
       "      <td>5</td>\n",
       "      <td>3</td>\n",
       "      <td>2</td>\n",
       "      <td>7</td>\n",
       "      <td>7</td>\n",
       "      <td>8</td>\n",
       "    </tr>\n",
       "    <tr>\n",
       "      <th>top</th>\n",
       "      <td>toyota corona</td>\n",
       "      <td>gas</td>\n",
       "      <td>std</td>\n",
       "      <td>four</td>\n",
       "      <td>sedan</td>\n",
       "      <td>fwd</td>\n",
       "      <td>front</td>\n",
       "      <td>ohc</td>\n",
       "      <td>four</td>\n",
       "      <td>mpfi</td>\n",
       "    </tr>\n",
       "    <tr>\n",
       "      <th>freq</th>\n",
       "      <td>6</td>\n",
       "      <td>185</td>\n",
       "      <td>168</td>\n",
       "      <td>115</td>\n",
       "      <td>96</td>\n",
       "      <td>120</td>\n",
       "      <td>202</td>\n",
       "      <td>148</td>\n",
       "      <td>159</td>\n",
       "      <td>94</td>\n",
       "    </tr>\n",
       "  </tbody>\n",
       "</table>\n",
       "</div>"
      ],
      "text/plain": [
       "              CarName fueltype aspiration doornumber carbody drivewheel  \\\n",
       "count             205      205        205        205     205        205   \n",
       "unique            147        2          2          2       5          3   \n",
       "top     toyota corona      gas        std       four   sedan        fwd   \n",
       "freq                6      185        168        115      96        120   \n",
       "\n",
       "       enginelocation enginetype cylindernumber fuelsystem  \n",
       "count             205        205            205        205  \n",
       "unique              2          7              7          8  \n",
       "top             front        ohc           four       mpfi  \n",
       "freq              202        148            159         94  "
      ]
     },
     "execution_count": 7,
     "metadata": {},
     "output_type": "execute_result"
    }
   ],
   "source": [
    "data.describe(include=['O'])\n"
   ]
  },
  {
   "cell_type": "code",
   "execution_count": 8,
   "id": "638fd22c",
   "metadata": {
    "execution": {
     "iopub.execute_input": "2022-09-15T19:18:34.824271Z",
     "iopub.status.busy": "2022-09-15T19:18:34.823828Z",
     "iopub.status.idle": "2022-09-15T19:18:34.831055Z",
     "shell.execute_reply": "2022-09-15T19:18:34.829864Z"
    },
    "id": "3nVOA-rR6g8E",
    "papermill": {
     "duration": 0.02159,
     "end_time": "2022-09-15T19:18:34.833504",
     "exception": false,
     "start_time": "2022-09-15T19:18:34.811914",
     "status": "completed"
    },
    "tags": []
   },
   "outputs": [],
   "source": [
    "data['CarName'] = data['CarName'].replace({'maxda': 'mazda', 'nissan': 'Nissan', 'porcshce': 'porsche', 'toyouta': 'toyota', \n",
    "                            'vokswagen': 'volkswagen', 'vw': 'volkswagen'})"
   ]
  },
  {
   "cell_type": "code",
   "execution_count": 9,
   "id": "ea6a7bf6",
   "metadata": {
    "execution": {
     "iopub.execute_input": "2022-09-15T19:18:34.855902Z",
     "iopub.status.busy": "2022-09-15T19:18:34.855507Z",
     "iopub.status.idle": "2022-09-15T19:18:34.881297Z",
     "shell.execute_reply": "2022-09-15T19:18:34.880154Z"
    },
    "id": "wQCu4T-j6g8F",
    "outputId": "0efd9a17-4626-4d7a-caf5-abf1efcd9c2e",
    "papermill": {
     "duration": 0.039739,
     "end_time": "2022-09-15T19:18:34.883801",
     "exception": false,
     "start_time": "2022-09-15T19:18:34.844062",
     "status": "completed"
    },
    "tags": []
   },
   "outputs": [
    {
     "data": {
      "text/html": [
       "<div>\n",
       "<style scoped>\n",
       "    .dataframe tbody tr th:only-of-type {\n",
       "        vertical-align: middle;\n",
       "    }\n",
       "\n",
       "    .dataframe tbody tr th {\n",
       "        vertical-align: top;\n",
       "    }\n",
       "\n",
       "    .dataframe thead th {\n",
       "        text-align: right;\n",
       "    }\n",
       "</style>\n",
       "<table border=\"1\" class=\"dataframe\">\n",
       "  <thead>\n",
       "    <tr style=\"text-align: right;\">\n",
       "      <th></th>\n",
       "      <th>car_ID</th>\n",
       "      <th>symboling</th>\n",
       "      <th>CarName</th>\n",
       "      <th>fueltype</th>\n",
       "      <th>aspiration</th>\n",
       "      <th>doornumber</th>\n",
       "      <th>carbody</th>\n",
       "      <th>drivewheel</th>\n",
       "      <th>enginelocation</th>\n",
       "      <th>wheelbase</th>\n",
       "      <th>...</th>\n",
       "      <th>enginesize</th>\n",
       "      <th>fuelsystem</th>\n",
       "      <th>boreratio</th>\n",
       "      <th>stroke</th>\n",
       "      <th>compressionratio</th>\n",
       "      <th>horsepower</th>\n",
       "      <th>peakrpm</th>\n",
       "      <th>citympg</th>\n",
       "      <th>highwaympg</th>\n",
       "      <th>price</th>\n",
       "    </tr>\n",
       "  </thead>\n",
       "  <tbody>\n",
       "    <tr>\n",
       "      <th>0</th>\n",
       "      <td>1</td>\n",
       "      <td>3</td>\n",
       "      <td>alfa-romero giulia</td>\n",
       "      <td>gas</td>\n",
       "      <td>std</td>\n",
       "      <td>two</td>\n",
       "      <td>convertible</td>\n",
       "      <td>rwd</td>\n",
       "      <td>front</td>\n",
       "      <td>88.6</td>\n",
       "      <td>...</td>\n",
       "      <td>130</td>\n",
       "      <td>mpfi</td>\n",
       "      <td>3.47</td>\n",
       "      <td>2.68</td>\n",
       "      <td>9.0</td>\n",
       "      <td>111</td>\n",
       "      <td>5000</td>\n",
       "      <td>21</td>\n",
       "      <td>27</td>\n",
       "      <td>13495.0</td>\n",
       "    </tr>\n",
       "    <tr>\n",
       "      <th>1</th>\n",
       "      <td>2</td>\n",
       "      <td>3</td>\n",
       "      <td>alfa-romero stelvio</td>\n",
       "      <td>gas</td>\n",
       "      <td>std</td>\n",
       "      <td>two</td>\n",
       "      <td>convertible</td>\n",
       "      <td>rwd</td>\n",
       "      <td>front</td>\n",
       "      <td>88.6</td>\n",
       "      <td>...</td>\n",
       "      <td>130</td>\n",
       "      <td>mpfi</td>\n",
       "      <td>3.47</td>\n",
       "      <td>2.68</td>\n",
       "      <td>9.0</td>\n",
       "      <td>111</td>\n",
       "      <td>5000</td>\n",
       "      <td>21</td>\n",
       "      <td>27</td>\n",
       "      <td>16500.0</td>\n",
       "    </tr>\n",
       "    <tr>\n",
       "      <th>2</th>\n",
       "      <td>3</td>\n",
       "      <td>1</td>\n",
       "      <td>alfa-romero Quadrifoglio</td>\n",
       "      <td>gas</td>\n",
       "      <td>std</td>\n",
       "      <td>two</td>\n",
       "      <td>hatchback</td>\n",
       "      <td>rwd</td>\n",
       "      <td>front</td>\n",
       "      <td>94.5</td>\n",
       "      <td>...</td>\n",
       "      <td>152</td>\n",
       "      <td>mpfi</td>\n",
       "      <td>2.68</td>\n",
       "      <td>3.47</td>\n",
       "      <td>9.0</td>\n",
       "      <td>154</td>\n",
       "      <td>5000</td>\n",
       "      <td>19</td>\n",
       "      <td>26</td>\n",
       "      <td>16500.0</td>\n",
       "    </tr>\n",
       "    <tr>\n",
       "      <th>3</th>\n",
       "      <td>4</td>\n",
       "      <td>2</td>\n",
       "      <td>audi 100 ls</td>\n",
       "      <td>gas</td>\n",
       "      <td>std</td>\n",
       "      <td>four</td>\n",
       "      <td>sedan</td>\n",
       "      <td>fwd</td>\n",
       "      <td>front</td>\n",
       "      <td>99.8</td>\n",
       "      <td>...</td>\n",
       "      <td>109</td>\n",
       "      <td>mpfi</td>\n",
       "      <td>3.19</td>\n",
       "      <td>3.40</td>\n",
       "      <td>10.0</td>\n",
       "      <td>102</td>\n",
       "      <td>5500</td>\n",
       "      <td>24</td>\n",
       "      <td>30</td>\n",
       "      <td>13950.0</td>\n",
       "    </tr>\n",
       "    <tr>\n",
       "      <th>4</th>\n",
       "      <td>5</td>\n",
       "      <td>2</td>\n",
       "      <td>audi 100ls</td>\n",
       "      <td>gas</td>\n",
       "      <td>std</td>\n",
       "      <td>four</td>\n",
       "      <td>sedan</td>\n",
       "      <td>4wd</td>\n",
       "      <td>front</td>\n",
       "      <td>99.4</td>\n",
       "      <td>...</td>\n",
       "      <td>136</td>\n",
       "      <td>mpfi</td>\n",
       "      <td>3.19</td>\n",
       "      <td>3.40</td>\n",
       "      <td>8.0</td>\n",
       "      <td>115</td>\n",
       "      <td>5500</td>\n",
       "      <td>18</td>\n",
       "      <td>22</td>\n",
       "      <td>17450.0</td>\n",
       "    </tr>\n",
       "  </tbody>\n",
       "</table>\n",
       "<p>5 rows × 26 columns</p>\n",
       "</div>"
      ],
      "text/plain": [
       "   car_ID  symboling                   CarName fueltype aspiration doornumber  \\\n",
       "0       1          3        alfa-romero giulia      gas        std        two   \n",
       "1       2          3       alfa-romero stelvio      gas        std        two   \n",
       "2       3          1  alfa-romero Quadrifoglio      gas        std        two   \n",
       "3       4          2               audi 100 ls      gas        std       four   \n",
       "4       5          2                audi 100ls      gas        std       four   \n",
       "\n",
       "       carbody drivewheel enginelocation  wheelbase  ...  enginesize  \\\n",
       "0  convertible        rwd          front       88.6  ...         130   \n",
       "1  convertible        rwd          front       88.6  ...         130   \n",
       "2    hatchback        rwd          front       94.5  ...         152   \n",
       "3        sedan        fwd          front       99.8  ...         109   \n",
       "4        sedan        4wd          front       99.4  ...         136   \n",
       "\n",
       "   fuelsystem  boreratio  stroke compressionratio horsepower  peakrpm citympg  \\\n",
       "0        mpfi       3.47    2.68              9.0        111     5000      21   \n",
       "1        mpfi       3.47    2.68              9.0        111     5000      21   \n",
       "2        mpfi       2.68    3.47              9.0        154     5000      19   \n",
       "3        mpfi       3.19    3.40             10.0        102     5500      24   \n",
       "4        mpfi       3.19    3.40              8.0        115     5500      18   \n",
       "\n",
       "   highwaympg    price  \n",
       "0          27  13495.0  \n",
       "1          27  16500.0  \n",
       "2          26  16500.0  \n",
       "3          30  13950.0  \n",
       "4          22  17450.0  \n",
       "\n",
       "[5 rows x 26 columns]"
      ]
     },
     "execution_count": 9,
     "metadata": {},
     "output_type": "execute_result"
    }
   ],
   "source": [
    "data.head()"
   ]
  },
  {
   "cell_type": "code",
   "execution_count": 10,
   "id": "f03880e2",
   "metadata": {
    "execution": {
     "iopub.execute_input": "2022-09-15T19:18:34.907176Z",
     "iopub.status.busy": "2022-09-15T19:18:34.906052Z",
     "iopub.status.idle": "2022-09-15T19:18:35.164645Z",
     "shell.execute_reply": "2022-09-15T19:18:35.163258Z"
    },
    "id": "kaWSArWO6g8G",
    "outputId": "1ea52184-04cd-4f13-ecc5-6b095e149d0f",
    "papermill": {
     "duration": 0.272815,
     "end_time": "2022-09-15T19:18:35.167194",
     "exception": false,
     "start_time": "2022-09-15T19:18:34.894379",
     "status": "completed"
    },
    "tags": []
   },
   "outputs": [
    {
     "name": "stderr",
     "output_type": "stream",
     "text": [
      "/opt/conda/lib/python3.7/site-packages/seaborn/distributions.py:2619: FutureWarning: `distplot` is a deprecated function and will be removed in a future version. Please adapt your code to use either `displot` (a figure-level function with similar flexibility) or `histplot` (an axes-level function for histograms).\n",
      "  warnings.warn(msg, FutureWarning)\n"
     ]
    },
    {
     "data": {
      "text/plain": [
       "<AxesSubplot:xlabel='price', ylabel='Density'>"
      ]
     },
     "execution_count": 10,
     "metadata": {},
     "output_type": "execute_result"
    },
    {
     "data": {
      "image/png": "[encoded data removed]",
      "text/plain": [
       "<Figure size 432x288 with 1 Axes>"
      ]
     },
     "metadata": {
      "needs_background": "light"
     },
     "output_type": "display_data"
    }
   ],
   "source": [
    "sns.distplot(data['price'],kde=True)"
   ]
  },
  {
   "cell_type": "markdown",
   "id": "52472ca3",
   "metadata": {
    "id": "YZUUnGIU6g8G",
    "papermill": {
     "duration": 0.011577,
     "end_time": "2022-09-15T19:18:35.189984",
     "exception": false,
     "start_time": "2022-09-15T19:18:35.178407",
     "status": "completed"
    },
    "tags": []
   },
   "source": [
    "**maximum number of cars are in range of 20000**"
   ]
  },
  {
   "cell_type": "code",
   "execution_count": 11,
   "id": "f3e7bf09",
   "metadata": {
    "execution": {
     "iopub.execute_input": "2022-09-15T19:18:35.214735Z",
     "iopub.status.busy": "2022-09-15T19:18:35.214311Z",
     "iopub.status.idle": "2022-09-15T19:18:35.387544Z",
     "shell.execute_reply": "2022-09-15T19:18:35.385911Z"
    },
    "id": "2nCIQoQJ6g8L",
    "outputId": "3a6c477e-8323-4f4c-8b5b-99fc63f87461",
    "papermill": {
     "duration": 0.189132,
     "end_time": "2022-09-15T19:18:35.390681",
     "exception": false,
     "start_time": "2022-09-15T19:18:35.201549",
     "status": "completed"
    },
    "tags": []
   },
   "outputs": [
    {
     "data": {
      "text/plain": [
       "<AxesSubplot:xlabel='fueltype', ylabel='price'>"
      ]
     },
     "execution_count": 11,
     "metadata": {},
     "output_type": "execute_result"
    },
    {
     "data": {
      "image/png": "[encoded data removed]",
      "text/plain": [
       "<Figure size 432x288 with 1 Axes>"
      ]
     },
     "metadata": {
      "needs_background": "light"
     },
     "output_type": "display_data"
    }
   ],
   "source": [
    "sns.boxplot(x = 'fueltype', y = 'price', data = data,palette='Pastel2')\n"
   ]
  },
  {
   "cell_type": "markdown",
   "id": "d26715c8",
   "metadata": {
    "id": "o5cXa4ua6g8N",
    "papermill": {
     "duration": 0.011294,
     "end_time": "2022-09-15T19:18:35.413687",
     "exception": false,
     "start_time": "2022-09-15T19:18:35.402393",
     "status": "completed"
    },
    "tags": []
   },
   "source": [
    "**there are some outliers in gas vehicles**"
   ]
  },
  {
   "cell_type": "code",
   "execution_count": 12,
   "id": "2d5fa4b2",
   "metadata": {
    "execution": {
     "iopub.execute_input": "2022-09-15T19:18:35.438548Z",
     "iopub.status.busy": "2022-09-15T19:18:35.438127Z",
     "iopub.status.idle": "2022-09-15T19:18:35.739942Z",
     "shell.execute_reply": "2022-09-15T19:18:35.739125Z"
    },
    "id": "5jeLabbgH0Qm",
    "outputId": "62dd54cb-c548-461f-abe0-fd1c49960980",
    "papermill": {
     "duration": 0.317144,
     "end_time": "2022-09-15T19:18:35.742469",
     "exception": false,
     "start_time": "2022-09-15T19:18:35.425325",
     "status": "completed"
    },
    "tags": []
   },
   "outputs": [
    {
     "data": {
      "text/plain": [
       "<AxesSubplot:xlabel='symboling', ylabel='price'>"
      ]
     },
     "execution_count": 12,
     "metadata": {},
     "output_type": "execute_result"
    },
    {
     "data": {
      "image/png": "[encoded data removed]",
      "text/plain": [
       "<Figure size 432x288 with 1 Axes>"
      ]
     },
     "metadata": {
      "needs_background": "light"
     },
     "output_type": "display_data"
    }
   ],
   "source": [
    "sns.boxplot(x = 'symboling', y = 'price', data = data,palette='winter_r')"
   ]
  },
  {
   "cell_type": "code",
   "execution_count": 13,
   "id": "15178079",
   "metadata": {
    "execution": {
     "iopub.execute_input": "2022-09-15T19:18:35.772590Z",
     "iopub.status.busy": "2022-09-15T19:18:35.771852Z",
     "iopub.status.idle": "2022-09-15T19:18:36.011863Z",
     "shell.execute_reply": "2022-09-15T19:18:36.010038Z"
    },
    "id": "-TiSjWJeICNU",
    "outputId": "a1277e66-5caf-47f1-da87-3e69d8643f0d",
    "papermill": {
     "duration": 0.257944,
     "end_time": "2022-09-15T19:18:36.015081",
     "exception": false,
     "start_time": "2022-09-15T19:18:35.757137",
     "status": "completed"
    },
    "tags": []
   },
   "outputs": [
    {
     "data": {
      "image/png": "[encoded data removed]",
      "text/plain": [
       "<Figure size 432x288 with 1 Axes>"
      ]
     },
     "metadata": {
      "needs_background": "light"
     },
     "output_type": "display_data"
    }
   ],
   "source": [
    "df_v=pd.DataFrame(data['symboling'].value_counts()).reset_index().rename(columns={'index':'symboling','symboling':'count'})\n",
    "sns.barplot(x='symboling',y='count',data=df_v);"
   ]
  },
  {
   "cell_type": "code",
   "execution_count": 14,
   "id": "89be70aa",
   "metadata": {
    "execution": {
     "iopub.execute_input": "2022-09-15T19:18:36.054266Z",
     "iopub.status.busy": "2022-09-15T19:18:36.053496Z",
     "iopub.status.idle": "2022-09-15T19:18:36.336033Z",
     "shell.execute_reply": "2022-09-15T19:18:36.335182Z"
    },
    "id": "KAak2DWuKjlI",
    "outputId": "8aab537b-0dc8-48ae-fc89-5dafb321cf4c",
    "papermill": {
     "duration": 0.30494,
     "end_time": "2022-09-15T19:18:36.338784",
     "exception": false,
     "start_time": "2022-09-15T19:18:36.033844",
     "status": "completed"
    },
    "tags": []
   },
   "outputs": [
    {
     "data": {
      "image/png": "[encoded data removed]",
      "text/plain": [
       "<Figure size 432x288 with 1 Axes>"
      ]
     },
     "metadata": {
      "needs_background": "light"
     },
     "output_type": "display_data"
    }
   ],
   "source": [
    "sns.boxplot(x = 'symboling', y = 'price', data = data,palette='Pastel1');\n"
   ]
  },
  {
   "cell_type": "code",
   "execution_count": 15,
   "id": "3270dcde",
   "metadata": {
    "execution": {
     "iopub.execute_input": "2022-09-15T19:18:36.370935Z",
     "iopub.status.busy": "2022-09-15T19:18:36.370502Z",
     "iopub.status.idle": "2022-09-15T19:18:36.632127Z",
     "shell.execute_reply": "2022-09-15T19:18:36.631258Z"
    },
    "id": "MsoMI8MDKu-U",
    "outputId": "42459483-ab8f-4a0e-94d4-d9c9a07e333c",
    "papermill": {
     "duration": 0.277982,
     "end_time": "2022-09-15T19:18:36.634668",
     "exception": false,
     "start_time": "2022-09-15T19:18:36.356686",
     "status": "completed"
    },
    "tags": []
   },
   "outputs": [
    {
     "data": {
      "image/png": "[encoded data removed]",
      "text/plain": [
       "<Figure size 432x288 with 1 Axes>"
      ]
     },
     "metadata": {
      "needs_background": "light"
     },
     "output_type": "display_data"
    }
   ],
   "source": [
    "sns.scatterplot(x=\"wheelbase\", y=\"price\", data=data,color='purple');"
   ]
  },
  {
   "cell_type": "code",
   "execution_count": 16,
   "id": "0a984704",
   "metadata": {
    "execution": {
     "iopub.execute_input": "2022-09-15T19:18:36.669272Z",
     "iopub.status.busy": "2022-09-15T19:18:36.668560Z",
     "iopub.status.idle": "2022-09-15T19:18:36.916678Z",
     "shell.execute_reply": "2022-09-15T19:18:36.915350Z"
    },
    "id": "7G2R60sWLAxO",
    "outputId": "d28260e9-ed9f-4b77-a370-6dc6b152bea1",
    "papermill": {
     "duration": 0.27198,
     "end_time": "2022-09-15T19:18:36.919524",
     "exception": false,
     "start_time": "2022-09-15T19:18:36.647544",
     "status": "completed"
    },
    "tags": []
   },
   "outputs": [
    {
     "data": {
      "image/png": "[encoded data removed]",
      "text/plain": [
       "<Figure size 432x288 with 1 Axes>"
      ]
     },
     "metadata": {
      "needs_background": "light"
     },
     "output_type": "display_data"
    }
   ],
   "source": [
    "sns.scatterplot(x=\"horsepower\", y=\"price\", data=data,color='b');"
   ]
  },
  {
   "cell_type": "code",
   "execution_count": 17,
   "id": "9923d436",
   "metadata": {
    "execution": {
     "iopub.execute_input": "2022-09-15T19:18:36.947808Z",
     "iopub.status.busy": "2022-09-15T19:18:36.947409Z",
     "iopub.status.idle": "2022-09-15T19:18:38.775152Z",
     "shell.execute_reply": "2022-09-15T19:18:38.773819Z"
    },
    "id": "de4PXo_QLMGU",
    "outputId": "b4444ebf-407b-44af-989a-53ad78c9ff89",
    "papermill": {
     "duration": 1.845803,
     "end_time": "2022-09-15T19:18:38.778453",
     "exception": false,
     "start_time": "2022-09-15T19:18:36.932650",
     "status": "completed"
    },
    "tags": []
   },
   "outputs": [
    {
     "data": {
      "image/png": "[encoded data removed]",
      "text/plain": [
       "<Figure size 419.5x360 with 6 Axes>"
      ]
     },
     "metadata": {
      "needs_background": "light"
     },
     "output_type": "display_data"
    }
   ],
   "source": [
    "sns.pairplot(data[['horsepower','price','symboling']], hue=\"symboling\");\n"
   ]
  },
  {
   "cell_type": "code",
   "execution_count": 18,
   "id": "042a7e86",
   "metadata": {
    "execution": {
     "iopub.execute_input": "2022-09-15T19:18:38.815584Z",
     "iopub.status.busy": "2022-09-15T19:18:38.814823Z",
     "iopub.status.idle": "2022-09-15T19:18:40.410144Z",
     "shell.execute_reply": "2022-09-15T19:18:40.408781Z"
    },
    "id": "wEZlv_fy6g8O",
    "outputId": "838dd331-5a6b-49f3-fa38-f14aa715387e",
    "papermill": {
     "duration": 1.619216,
     "end_time": "2022-09-15T19:18:40.415043",
     "exception": false,
     "start_time": "2022-09-15T19:18:38.795827",
     "status": "completed"
    },
    "tags": []
   },
   "outputs": [
    {
     "data": {
      "image/png": "[encoded data removed]",
      "text/plain": [
       "<Figure size 1080x504 with 2 Axes>"
      ]
     },
     "metadata": {
      "needs_background": "light"
     },
     "output_type": "display_data"
    }
   ],
   "source": [
    "plt.figure(figsize=(15,7))\n",
    "sns.heatmap(data.corr(),annot=True,cmap=\"Blues\")\n",
    "plt.title(\"Data Correlation\",size=15)\n",
    "plt.ylabel(\"Columns\",size=15)\n",
    "plt.xlabel(\"Columns\",size=15)\n",
    "plt.show()"
   ]
  },
  {
   "cell_type": "code",
   "execution_count": 19,
   "id": "bf9f7d16",
   "metadata": {
    "execution": {
     "iopub.execute_input": "2022-09-15T19:18:40.454759Z",
     "iopub.status.busy": "2022-09-15T19:18:40.453415Z",
     "iopub.status.idle": "2022-09-15T19:18:40.733373Z",
     "shell.execute_reply": "2022-09-15T19:18:40.731984Z"
    },
    "id": "Nju4gnw46g8P",
    "outputId": "205d7a9c-b6e7-4a72-a4c3-4e438d5bbd85",
    "papermill": {
     "duration": 0.301778,
     "end_time": "2022-09-15T19:18:40.735855",
     "exception": false,
     "start_time": "2022-09-15T19:18:40.434077",
     "status": "completed"
    },
    "tags": []
   },
   "outputs": [
    {
     "data": {
      "image/png": "[encoded data removed]",
      "text/plain": [
       "<Figure size 864x576 with 1 Axes>"
      ]
     },
     "metadata": {
      "needs_background": "light"
     },
     "output_type": "display_data"
    }
   ],
   "source": [
    "plt.figure(figsize=(12,8))\n",
    "sns.set_palette('bright')\n",
    "plt.title('Car Price Plot')\n",
    "sns.histplot(data['price'])\n",
    "plt.show()"
   ]
  },
  {
   "cell_type": "code",
   "execution_count": 20,
   "id": "975188c9",
   "metadata": {
    "execution": {
     "iopub.execute_input": "2022-09-15T19:18:40.773868Z",
     "iopub.status.busy": "2022-09-15T19:18:40.773469Z",
     "iopub.status.idle": "2022-09-15T19:18:40.947162Z",
     "shell.execute_reply": "2022-09-15T19:18:40.945641Z"
    },
    "id": "spzcsaG66g8Q",
    "outputId": "61811686-9e9c-4e07-9d79-73e483cb8d61",
    "papermill": {
     "duration": 0.197244,
     "end_time": "2022-09-15T19:18:40.951503",
     "exception": false,
     "start_time": "2022-09-15T19:18:40.754259",
     "status": "completed"
    },
    "tags": []
   },
   "outputs": [
    {
     "data": {
      "image/png": "[encoded data removed]",
      "text/plain": [
       "<Figure size 864x648 with 1 Axes>"
      ]
     },
     "metadata": {},
     "output_type": "display_data"
    }
   ],
   "source": [
    "fuel=data['fueltype'].value_counts()\n",
    "labels=fuel.index\n",
    "sizes=fuel.values\n",
    "plt.figure(figsize=(12,9))\n",
    "colors = sns.color_palette('Paired')\n",
    "plt.pie(sizes,labels=labels,autopct='%1.1f%%',\n",
    "        shadow=True,colors=colors,startangle=90)\n",
    "plt.show()"
   ]
  },
  {
   "cell_type": "code",
   "execution_count": 21,
   "id": "4184c9c7",
   "metadata": {
    "execution": {
     "iopub.execute_input": "2022-09-15T19:18:41.014776Z",
     "iopub.status.busy": "2022-09-15T19:18:41.013937Z",
     "iopub.status.idle": "2022-09-15T19:18:41.027997Z",
     "shell.execute_reply": "2022-09-15T19:18:41.026533Z"
    },
    "id": "ZFi7BBKG9f33",
    "outputId": "1111bd8b-d266-450f-82c6-07a3d8f6551f",
    "papermill": {
     "duration": 0.03621,
     "end_time": "2022-09-15T19:18:41.030934",
     "exception": false,
     "start_time": "2022-09-15T19:18:40.994724",
     "status": "completed"
    },
    "tags": []
   },
   "outputs": [
    {
     "data": {
      "text/plain": [
       "0"
      ]
     },
     "execution_count": 21,
     "metadata": {},
     "output_type": "execute_result"
    }
   ],
   "source": [
    "data.duplicated().sum()"
   ]
  },
  {
   "cell_type": "code",
   "execution_count": 22,
   "id": "675a17bc",
   "metadata": {
    "execution": {
     "iopub.execute_input": "2022-09-15T19:18:41.071604Z",
     "iopub.status.busy": "2022-09-15T19:18:41.071175Z",
     "iopub.status.idle": "2022-09-15T19:18:41.090841Z",
     "shell.execute_reply": "2022-09-15T19:18:41.089592Z"
    },
    "id": "1dP5Bf7C_qPY",
    "papermill": {
     "duration": 0.043233,
     "end_time": "2022-09-15T19:18:41.093468",
     "exception": false,
     "start_time": "2022-09-15T19:18:41.050235",
     "status": "completed"
    },
    "tags": []
   },
   "outputs": [],
   "source": [
    "data = pd.get_dummies(data)"
   ]
  },
  {
   "cell_type": "code",
   "execution_count": 23,
   "id": "ae92742f",
   "metadata": {
    "execution": {
     "iopub.execute_input": "2022-09-15T19:18:41.130454Z",
     "iopub.status.busy": "2022-09-15T19:18:41.129997Z",
     "iopub.status.idle": "2022-09-15T19:18:41.137804Z",
     "shell.execute_reply": "2022-09-15T19:18:41.136920Z"
    },
    "id": "7XPtV2Ra9kNg",
    "papermill": {
     "duration": 0.029621,
     "end_time": "2022-09-15T19:18:41.140371",
     "exception": false,
     "start_time": "2022-09-15T19:18:41.110750",
     "status": "completed"
    },
    "tags": []
   },
   "outputs": [],
   "source": [
    "X = data.drop(['car_ID','price'],axis=1)\n",
    "y = data['price']"
   ]
  },
  {
   "cell_type": "code",
   "execution_count": 24,
   "id": "f99c2c20",
   "metadata": {
    "execution": {
     "iopub.execute_input": "2022-09-15T19:18:41.183458Z",
     "iopub.status.busy": "2022-09-15T19:18:41.182640Z",
     "iopub.status.idle": "2022-09-15T19:18:41.412405Z",
     "shell.execute_reply": "2022-09-15T19:18:41.411171Z"
    },
    "id": "hPVQYdHX9x5X",
    "papermill": {
     "duration": 0.253915,
     "end_time": "2022-09-15T19:18:41.415233",
     "exception": false,
     "start_time": "2022-09-15T19:18:41.161318",
     "status": "completed"
    },
    "tags": []
   },
   "outputs": [],
   "source": [
    "from sklearn.model_selection import train_test_split\n",
    "from sklearn.metrics import mean_absolute_error , r2_score , mean_squared_error\n",
    "X_train,X_test,y_train,y_test = train_test_split(X,y,test_size=0.2)"
   ]
  },
  {
   "cell_type": "code",
   "execution_count": 25,
   "id": "347636c7",
   "metadata": {
    "execution": {
     "iopub.execute_input": "2022-09-15T19:18:41.451140Z",
     "iopub.status.busy": "2022-09-15T19:18:41.450706Z",
     "iopub.status.idle": "2022-09-15T19:18:41.476845Z",
     "shell.execute_reply": "2022-09-15T19:18:41.475472Z"
    },
    "id": "wNMJFxUCjo5v",
    "papermill": {
     "duration": 0.047886,
     "end_time": "2022-09-15T19:18:41.480087",
     "exception": false,
     "start_time": "2022-09-15T19:18:41.432201",
     "status": "completed"
    },
    "tags": []
   },
   "outputs": [],
   "source": [
    "from sklearn.preprocessing import StandardScaler\n",
    "ros_scaler = StandardScaler()\n",
    "x_train = ros_scaler.fit_transform(X_train)\n",
    "x_test = ros_scaler.fit_transform(X_test)"
   ]
  },
  {
   "cell_type": "code",
   "execution_count": 26,
   "id": "fd4b919d",
   "metadata": {
    "execution": {
     "iopub.execute_input": "2022-09-15T19:18:41.522524Z",
     "iopub.status.busy": "2022-09-15T19:18:41.521244Z",
     "iopub.status.idle": "2022-09-15T19:18:41.587890Z",
     "shell.execute_reply": "2022-09-15T19:18:41.586901Z"
    },
    "id": "TDQj6FrGjo-6",
    "papermill": {
     "duration": 0.090894,
     "end_time": "2022-09-15T19:18:41.590868",
     "exception": false,
     "start_time": "2022-09-15T19:18:41.499974",
     "status": "completed"
    },
    "tags": []
   },
   "outputs": [],
   "source": [
    "from sklearn.preprocessing import RobustScaler\n",
    "ro_scaler = RobustScaler()\n",
    "x_train = ro_scaler.fit_transform(X_train)\n",
    "x_test = ro_scaler.fit_transform(X_test)"
   ]
  },
  {
   "cell_type": "code",
   "execution_count": 27,
   "id": "46c54844",
   "metadata": {
    "execution": {
     "iopub.execute_input": "2022-09-15T19:18:41.632533Z",
     "iopub.status.busy": "2022-09-15T19:18:41.631206Z",
     "iopub.status.idle": "2022-09-15T19:18:41.767358Z",
     "shell.execute_reply": "2022-09-15T19:18:41.765174Z"
    },
    "id": "EJiMaldw93ce",
    "outputId": "578a6134-eed5-4095-854e-75369c70c7ec",
    "papermill": {
     "duration": 0.162459,
     "end_time": "2022-09-15T19:18:41.773109",
     "exception": false,
     "start_time": "2022-09-15T19:18:41.610650",
     "status": "completed"
    },
    "tags": []
   },
   "outputs": [
    {
     "data": {
      "text/plain": [
       "0.828433879804241"
      ]
     },
     "execution_count": 27,
     "metadata": {},
     "output_type": "execute_result"
    }
   ],
   "source": [
    "from sklearn.linear_model import LinearRegression\n",
    "Lr = LinearRegression()\n",
    "Lr.fit(X_train,y_train)\n",
    "Lr.score(X_test,y_test)\n"
   ]
  },
  {
   "cell_type": "code",
   "execution_count": 28,
   "id": "d9b52ac5",
   "metadata": {
    "execution": {
     "iopub.execute_input": "2022-09-15T19:18:41.864433Z",
     "iopub.status.busy": "2022-09-15T19:18:41.863975Z",
     "iopub.status.idle": "2022-09-15T19:18:41.887034Z",
     "shell.execute_reply": "2022-09-15T19:18:41.885279Z"
    },
    "id": "2xXAQtf_kWCz",
    "outputId": "ded9cf42-39d2-4050-814b-968d91e82f4a",
    "papermill": {
     "duration": 0.070125,
     "end_time": "2022-09-15T19:18:41.890840",
     "exception": false,
     "start_time": "2022-09-15T19:18:41.820715",
     "status": "completed"
    },
    "tags": []
   },
   "outputs": [
    {
     "data": {
      "text/plain": [
       "0.9970092150836859"
      ]
     },
     "execution_count": 28,
     "metadata": {},
     "output_type": "execute_result"
    }
   ],
   "source": [
    "Lr.score(X_train,y_train)"
   ]
  },
  {
   "cell_type": "code",
   "execution_count": 29,
   "id": "7b3380be",
   "metadata": {
    "execution": {
     "iopub.execute_input": "2022-09-15T19:18:41.981893Z",
     "iopub.status.busy": "2022-09-15T19:18:41.979783Z",
     "iopub.status.idle": "2022-09-15T19:18:42.015879Z",
     "shell.execute_reply": "2022-09-15T19:18:42.012826Z"
    },
    "id": "ZRqkseg6GnM-",
    "outputId": "bd25adb0-101a-4ed7-ad49-5983e78c14d0",
    "papermill": {
     "duration": 0.087318,
     "end_time": "2022-09-15T19:18:42.020600",
     "exception": false,
     "start_time": "2022-09-15T19:18:41.933282",
     "status": "completed"
    },
    "tags": []
   },
   "outputs": [
    {
     "name": "stdout",
     "output_type": "stream",
     "text": [
      "Test RMSE 3963.2426618316767\n",
      "Train RMSE 409.3866387980518\n",
      "R2 Test 0.828433879804241\n"
     ]
    }
   ],
   "source": [
    "print(\"Test RMSE\",np.sqrt(mean_squared_error(y_test,Lr.predict(X_test))))\n",
    "print(\"Train RMSE\",np.sqrt(mean_squared_error(y_train,Lr.predict(X_train))))\n",
    "print(\"R2 Test\",r2_score(y_test,Lr.predict(X_test)))"
   ]
  },
  {
   "cell_type": "code",
   "execution_count": 30,
   "id": "79e4f0db",
   "metadata": {
    "execution": {
     "iopub.execute_input": "2022-09-15T19:18:42.108509Z",
     "iopub.status.busy": "2022-09-15T19:18:42.107671Z",
     "iopub.status.idle": "2022-09-15T19:18:42.232984Z",
     "shell.execute_reply": "2022-09-15T19:18:42.231194Z"
    },
    "id": "zN02_3J0A45f",
    "outputId": "b5bb16c1-135f-46b8-91ad-8afbd771be39",
    "papermill": {
     "duration": 0.174652,
     "end_time": "2022-09-15T19:18:42.237282",
     "exception": false,
     "start_time": "2022-09-15T19:18:42.062630",
     "status": "completed"
    },
    "tags": []
   },
   "outputs": [
    {
     "name": "stderr",
     "output_type": "stream",
     "text": [
      "/opt/conda/lib/python3.7/site-packages/sklearn/linear_model/_coordinate_descent.py:648: ConvergenceWarning: Objective did not converge. You might want to increase the number of iterations, check the scale of the features or consider increasing regularisation. Duality gap: 5.347e+07, tolerance: 9.190e+05\n",
      "  coef_, l1_reg, l2_reg, X, y, max_iter, tol, rng, random, positive\n"
     ]
    },
    {
     "data": {
      "text/plain": [
       "0.8875083852360282"
      ]
     },
     "execution_count": 30,
     "metadata": {},
     "output_type": "execute_result"
    }
   ],
   "source": [
    "from sklearn.linear_model import Lasso\n",
    "LO = Lasso()\n",
    "LO.fit(X_train,y_train)\n",
    "LO.score(X_test,y_test)\n"
   ]
  },
  {
   "cell_type": "code",
   "execution_count": 31,
   "id": "7e6dfe46",
   "metadata": {
    "execution": {
     "iopub.execute_input": "2022-09-15T19:18:42.328718Z",
     "iopub.status.busy": "2022-09-15T19:18:42.327793Z",
     "iopub.status.idle": "2022-09-15T19:18:42.350945Z",
     "shell.execute_reply": "2022-09-15T19:18:42.349061Z"
    },
    "id": "7-eh7OABkZGa",
    "outputId": "6e8d919c-3c38-440c-b44d-d282c6643133",
    "papermill": {
     "duration": 0.074004,
     "end_time": "2022-09-15T19:18:42.355441",
     "exception": false,
     "start_time": "2022-09-15T19:18:42.281437",
     "status": "completed"
    },
    "tags": []
   },
   "outputs": [
    {
     "data": {
      "text/plain": [
       "0.9951483832310354"
      ]
     },
     "execution_count": 31,
     "metadata": {},
     "output_type": "execute_result"
    }
   ],
   "source": [
    "LO.score(X_train,y_train)\n"
   ]
  },
  {
   "cell_type": "code",
   "execution_count": 32,
   "id": "aaf0010e",
   "metadata": {
    "execution": {
     "iopub.execute_input": "2022-09-15T19:18:42.445644Z",
     "iopub.status.busy": "2022-09-15T19:18:42.444168Z",
     "iopub.status.idle": "2022-09-15T19:18:42.482424Z",
     "shell.execute_reply": "2022-09-15T19:18:42.479915Z"
    },
    "id": "FPeSJj91GgYw",
    "outputId": "b48171ef-92cc-4118-907e-ad62e67f93d7",
    "papermill": {
     "duration": 0.089525,
     "end_time": "2022-09-15T19:18:42.488423",
     "exception": false,
     "start_time": "2022-09-15T19:18:42.398898",
     "status": "completed"
    },
    "tags": []
   },
   "outputs": [
    {
     "name": "stdout",
     "output_type": "stream",
     "text": [
      "Test RMSE 3209.1866324399557\n",
      "Train RMSE 521.4159569953433\n",
      "R2 Test 0.8875083852360282\n"
     ]
    }
   ],
   "source": [
    "print(\"Test RMSE\",np.sqrt(mean_squared_error(y_test,LO.predict(X_test))))\n",
    "print(\"Train RMSE\",np.sqrt(mean_squared_error(y_train,LO.predict(X_train))))\n",
    "print(\"R2 Test\",r2_score(y_test,LO.predict(X_test)))"
   ]
  },
  {
   "cell_type": "code",
   "execution_count": 33,
   "id": "81454b9f",
   "metadata": {
    "execution": {
     "iopub.execute_input": "2022-09-15T19:18:42.585865Z",
     "iopub.status.busy": "2022-09-15T19:18:42.585092Z",
     "iopub.status.idle": "2022-09-15T19:18:42.667910Z",
     "shell.execute_reply": "2022-09-15T19:18:42.664221Z"
    },
    "id": "7URfjbVtBb6u",
    "outputId": "76a24e66-d874-46d3-e727-732b38608f4e",
    "papermill": {
     "duration": 0.135548,
     "end_time": "2022-09-15T19:18:42.672552",
     "exception": false,
     "start_time": "2022-09-15T19:18:42.537004",
     "status": "completed"
    },
    "tags": []
   },
   "outputs": [
    {
     "data": {
      "text/plain": [
       "0.9288250166050942"
      ]
     },
     "execution_count": 33,
     "metadata": {},
     "output_type": "execute_result"
    }
   ],
   "source": [
    "from sklearn.linear_model import Ridge\n",
    "RD = Ridge()\n",
    "RD.fit(X_train,y_train)\n",
    "RD.score(X_test,y_test)"
   ]
  },
  {
   "cell_type": "code",
   "execution_count": 34,
   "id": "5a86542b",
   "metadata": {
    "execution": {
     "iopub.execute_input": "2022-09-15T19:18:42.765843Z",
     "iopub.status.busy": "2022-09-15T19:18:42.765428Z",
     "iopub.status.idle": "2022-09-15T19:18:42.782346Z",
     "shell.execute_reply": "2022-09-15T19:18:42.780793Z"
    },
    "id": "6usKVNl1kemC",
    "outputId": "a321d8ef-0f6c-4d9d-b25e-9d2a6af9786e",
    "papermill": {
     "duration": 0.041013,
     "end_time": "2022-09-15T19:18:42.786670",
     "exception": false,
     "start_time": "2022-09-15T19:18:42.745657",
     "status": "completed"
    },
    "tags": []
   },
   "outputs": [
    {
     "data": {
      "text/plain": [
       "0.973589576228691"
      ]
     },
     "execution_count": 34,
     "metadata": {},
     "output_type": "execute_result"
    }
   ],
   "source": [
    "RD.score(X_train,y_train)"
   ]
  },
  {
   "cell_type": "code",
   "execution_count": 35,
   "id": "68f75a3f",
   "metadata": {
    "execution": {
     "iopub.execute_input": "2022-09-15T19:18:42.882690Z",
     "iopub.status.busy": "2022-09-15T19:18:42.880812Z",
     "iopub.status.idle": "2022-09-15T19:18:42.912263Z",
     "shell.execute_reply": "2022-09-15T19:18:42.910683Z"
    },
    "id": "CDFo78hcFNLG",
    "outputId": "a34ead4f-1866-47f0-dc77-0d4ba558914b",
    "papermill": {
     "duration": 0.084423,
     "end_time": "2022-09-15T19:18:42.916722",
     "exception": false,
     "start_time": "2022-09-15T19:18:42.832299",
     "status": "completed"
    },
    "tags": []
   },
   "outputs": [
    {
     "name": "stdout",
     "output_type": "stream",
     "text": [
      "Test RMSE 2552.6929932944395\n",
      "Train RMSE 1216.5466257520175\n",
      "R2 Test 0.9288250166050942\n"
     ]
    }
   ],
   "source": [
    "print(\"Test RMSE\",np.sqrt(mean_squared_error(y_test,RD.predict(X_test))))\n",
    "print(\"Train RMSE\",np.sqrt(mean_squared_error(y_train,RD.predict(X_train))))\n",
    "print(\"R2 Test\",r2_score(y_test,RD.predict(X_test)))"
   ]
  }
 ],
 "metadata": {
  "kernelspec": {
   "display_name": "Python 3",
   "language": "python",
   "name": "python3"
  },
  "language_info": {
   "codemirror_mode": {
    "name": "ipython",
    "version": 3
   },
   "file_extension": ".py",
   "mimetype": "text/x-python",
   "name": "python",
   "nbconvert_exporter": "python",
   "pygments_lexer": "ipython3",
   "version": "3.7.12"
  },
  "papermill": {
   "default_parameters": {},
   "duration": 22.176444,
   "end_time": "2022-09-15T19:18:45.976222",
   "environment_variables": {},
   "exception": null,
   "input_path": "__notebook__.ipynb",
   "output_path": "__notebook__.ipynb",
   "parameters": {},
   "start_time": "2022-09-15T19:18:23.799778",
   "version": "2.3.4"
  }
 },
 "nbformat": 4,
 "nbformat_minor": 5
}
